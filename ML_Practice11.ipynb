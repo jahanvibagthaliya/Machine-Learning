{
 "cells": [
  {
   "cell_type": "markdown",
   "id": "8578bbd8-98a4-497e-9b38-1e3647c31976",
   "metadata": {},
   "source": [
    "# Classification Algorithm\n",
    "- The classification algorithm is used to identify the category of new observations on the basis of training data.\n",
    "- In Classification, a program learn from the given dataset or observations and then classifies new observation into a number of classes or groups.\n",
    "- Such as, Yes or No, 0 or 1, Spam or Not Spam, Cat or Dog, etc. Classes can be called as targets/labels or categories.\n",
    "\n",
    "## There are two type of classifications:\n",
    "- Binary Classifier:If the classification problem has only two possible outcomes, then it is called as Binary Classifier.\n",
    "    - Example: Spam or Not Spam, Cat or Dog, etc.\n",
    "\n",
    "- Multi-class Classification: If a classification problem has more than two outcomes, then it is called as Multi-class classifier.\n",
    "    - Example: Classifications of types of crops, Classification of types of musics "
   ]
  },
  {
   "cell_type": "markdown",
   "id": "fcd0f6ac-b860-46dd-811f-6a1d57581b75",
   "metadata": {},
   "source": [
    "# Type of ML Classification Algorithms:\n",
    "## Non-linear Model:\n",
    "- K-Nearest Neighbours\n",
    "- SVM\n",
    "- Naive Bayes\n",
    "- Decision Tree Classification\n",
    "- Random Forest Classification\n",
    "\n",
    "## Linear Models:\n",
    "- Logistic Regression\n",
    "- Support Vector Machines"
   ]
  },
  {
   "cell_type": "markdown",
   "id": "39307341-44f4-47e3-a6fd-10cf164188b1",
   "metadata": {},
   "source": [
    "# Evaluating a Classification Model:\n",
    "- Log Loss Or Cross-Entropy Loss\n",
    "- Confusion Matrix\n",
    "- AUC-ROC curve"
   ]
  },
  {
   "cell_type": "code",
   "execution_count": null,
   "id": "a3e5f078-6517-4ad0-a06c-276c7559162d",
   "metadata": {},
   "outputs": [],
   "source": []
  }
 ],
 "metadata": {
  "kernelspec": {
   "display_name": "Python 3 (ipykernel)",
   "language": "python",
   "name": "python3"
  },
  "language_info": {
   "codemirror_mode": {
    "name": "ipython",
    "version": 3
   },
   "file_extension": ".py",
   "mimetype": "text/x-python",
   "name": "python",
   "nbconvert_exporter": "python",
   "pygments_lexer": "ipython3",
   "version": "3.12.7"
  }
 },
 "nbformat": 4,
 "nbformat_minor": 5
}
